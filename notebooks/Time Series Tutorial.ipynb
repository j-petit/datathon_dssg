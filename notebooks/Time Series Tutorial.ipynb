{
 "cells": [
  {
   "cell_type": "code",
   "execution_count": 116,
   "id": "bd1dcf61",
   "metadata": {},
   "outputs": [],
   "source": [
    "import pandas as pd\n",
    "import datetime\n",
    "import matplotlib.pyplot as plt"
   ]
  },
  {
   "cell_type": "code",
   "execution_count": 117,
   "id": "5dbbe531",
   "metadata": {},
   "outputs": [],
   "source": [
    "df1 = pd.read_csv('s3://adfc-bike-census/adfc_data/Heidelberg_1.csv')\n",
    "df1['date'] = pd.to_datetime(df1['date'])\n",
    "df2 = pd.read_csv('s3://adfc-bike-census/adfc_data/Heidelberg_2.csv')\n",
    "df2['date'] = pd.to_datetime(df2['date'])"
   ]
  },
  {
   "cell_type": "code",
   "execution_count": 118,
   "id": "16202db4",
   "metadata": {},
   "outputs": [],
   "source": [
    "df1['station_id'] = 1\n",
    "df2['station_id'] = 2\n",
    "dfc = pd.concat([df1, df2])"
   ]
  },
  {
   "cell_type": "code",
   "execution_count": 119,
   "id": "6110f3c6",
   "metadata": {},
   "outputs": [
    {
     "data": {
      "text/plain": [
       "pandas._libs.tslibs.timestamps.Timestamp"
      ]
     },
     "execution_count": 119,
     "metadata": {},
     "output_type": "execute_result"
    }
   ],
   "source": [
    "type(dfc['date'].max())"
   ]
  },
  {
   "cell_type": "code",
   "execution_count": 120,
   "id": "3b6815f1",
   "metadata": {},
   "outputs": [
    {
     "data": {
      "text/html": [
       "<div>\n",
       "<style scoped>\n",
       "    .dataframe tbody tr th:only-of-type {\n",
       "        vertical-align: middle;\n",
       "    }\n",
       "\n",
       "    .dataframe tbody tr th {\n",
       "        vertical-align: top;\n",
       "    }\n",
       "\n",
       "    .dataframe thead th {\n",
       "        text-align: right;\n",
       "    }\n",
       "</style>\n",
       "<table border=\"1\" class=\"dataframe\">\n",
       "  <thead>\n",
       "    <tr style=\"text-align: right;\">\n",
       "      <th></th>\n",
       "      <th>Unnamed: 0</th>\n",
       "      <th>comptage</th>\n",
       "      <th>timestamp</th>\n",
       "      <th>station_id</th>\n",
       "    </tr>\n",
       "    <tr>\n",
       "      <th>date</th>\n",
       "      <th></th>\n",
       "      <th></th>\n",
       "      <th></th>\n",
       "      <th></th>\n",
       "    </tr>\n",
       "  </thead>\n",
       "  <tbody>\n",
       "    <tr>\n",
       "      <th>2016-01-01 00:00:00</th>\n",
       "      <td>0</td>\n",
       "      <td>0</td>\n",
       "      <td>1451606400000</td>\n",
       "      <td>1</td>\n",
       "    </tr>\n",
       "    <tr>\n",
       "      <th>2016-01-01 00:15:00</th>\n",
       "      <td>1</td>\n",
       "      <td>4</td>\n",
       "      <td>1451607300000</td>\n",
       "      <td>1</td>\n",
       "    </tr>\n",
       "    <tr>\n",
       "      <th>2016-01-01 00:30:00</th>\n",
       "      <td>2</td>\n",
       "      <td>7</td>\n",
       "      <td>1451608200000</td>\n",
       "      <td>1</td>\n",
       "    </tr>\n",
       "    <tr>\n",
       "      <th>2016-01-01 00:45:00</th>\n",
       "      <td>3</td>\n",
       "      <td>5</td>\n",
       "      <td>1451609100000</td>\n",
       "      <td>1</td>\n",
       "    </tr>\n",
       "    <tr>\n",
       "      <th>2016-01-01 01:00:00</th>\n",
       "      <td>4</td>\n",
       "      <td>2</td>\n",
       "      <td>1451610000000</td>\n",
       "      <td>1</td>\n",
       "    </tr>\n",
       "  </tbody>\n",
       "</table>\n",
       "</div>"
      ],
      "text/plain": [
       "                     Unnamed: 0  comptage      timestamp  station_id\n",
       "date                                                                \n",
       "2016-01-01 00:00:00           0         0  1451606400000           1\n",
       "2016-01-01 00:15:00           1         4  1451607300000           1\n",
       "2016-01-01 00:30:00           2         7  1451608200000           1\n",
       "2016-01-01 00:45:00           3         5  1451609100000           1\n",
       "2016-01-01 01:00:00           4         2  1451610000000           1"
      ]
     },
     "execution_count": 120,
     "metadata": {},
     "output_type": "execute_result"
    }
   ],
   "source": [
    "dfc.set_index('date', inplace=True)\n",
    "df1.set_index('date', inplace=True)\n",
    "df2.set_index('date', inplace=True)\n",
    "dfc.head()"
   ]
  },
  {
   "cell_type": "code",
   "execution_count": 121,
   "id": "ff8ffff9",
   "metadata": {},
   "outputs": [
    {
     "data": {
      "text/html": [
       "<div>\n",
       "<style scoped>\n",
       "    .dataframe tbody tr th:only-of-type {\n",
       "        vertical-align: middle;\n",
       "    }\n",
       "\n",
       "    .dataframe tbody tr th {\n",
       "        vertical-align: top;\n",
       "    }\n",
       "\n",
       "    .dataframe thead th {\n",
       "        text-align: right;\n",
       "    }\n",
       "</style>\n",
       "<table border=\"1\" class=\"dataframe\">\n",
       "  <thead>\n",
       "    <tr style=\"text-align: right;\">\n",
       "      <th></th>\n",
       "      <th>Unnamed: 0</th>\n",
       "      <th>comptage</th>\n",
       "      <th>timestamp</th>\n",
       "      <th>station_id</th>\n",
       "    </tr>\n",
       "    <tr>\n",
       "      <th>date</th>\n",
       "      <th></th>\n",
       "      <th></th>\n",
       "      <th></th>\n",
       "      <th></th>\n",
       "    </tr>\n",
       "  </thead>\n",
       "  <tbody>\n",
       "    <tr>\n",
       "      <th>2019-01-01 00:00:00</th>\n",
       "      <td>105204</td>\n",
       "      <td>5</td>\n",
       "      <td>1546300800000</td>\n",
       "      <td>1</td>\n",
       "    </tr>\n",
       "    <tr>\n",
       "      <th>2019-01-01 00:15:00</th>\n",
       "      <td>105205</td>\n",
       "      <td>0</td>\n",
       "      <td>1546301700000</td>\n",
       "      <td>1</td>\n",
       "    </tr>\n",
       "    <tr>\n",
       "      <th>2019-01-01 00:30:00</th>\n",
       "      <td>105206</td>\n",
       "      <td>6</td>\n",
       "      <td>1546302600000</td>\n",
       "      <td>1</td>\n",
       "    </tr>\n",
       "    <tr>\n",
       "      <th>2019-01-01 00:45:00</th>\n",
       "      <td>105207</td>\n",
       "      <td>6</td>\n",
       "      <td>1546303500000</td>\n",
       "      <td>1</td>\n",
       "    </tr>\n",
       "    <tr>\n",
       "      <th>2019-01-01 01:00:00</th>\n",
       "      <td>105208</td>\n",
       "      <td>5</td>\n",
       "      <td>1546304400000</td>\n",
       "      <td>1</td>\n",
       "    </tr>\n",
       "    <tr>\n",
       "      <th>...</th>\n",
       "      <td>...</td>\n",
       "      <td>...</td>\n",
       "      <td>...</td>\n",
       "      <td>...</td>\n",
       "    </tr>\n",
       "    <tr>\n",
       "      <th>2019-12-31 22:45:00</th>\n",
       "      <td>140235</td>\n",
       "      <td>3</td>\n",
       "      <td>1577832300000</td>\n",
       "      <td>2</td>\n",
       "    </tr>\n",
       "    <tr>\n",
       "      <th>2019-12-31 23:00:00</th>\n",
       "      <td>140236</td>\n",
       "      <td>2</td>\n",
       "      <td>1577833200000</td>\n",
       "      <td>2</td>\n",
       "    </tr>\n",
       "    <tr>\n",
       "      <th>2019-12-31 23:15:00</th>\n",
       "      <td>140237</td>\n",
       "      <td>2</td>\n",
       "      <td>1577834100000</td>\n",
       "      <td>2</td>\n",
       "    </tr>\n",
       "    <tr>\n",
       "      <th>2019-12-31 23:30:00</th>\n",
       "      <td>140238</td>\n",
       "      <td>1</td>\n",
       "      <td>1577835000000</td>\n",
       "      <td>2</td>\n",
       "    </tr>\n",
       "    <tr>\n",
       "      <th>2019-12-31 23:45:00</th>\n",
       "      <td>140239</td>\n",
       "      <td>7</td>\n",
       "      <td>1577835900000</td>\n",
       "      <td>2</td>\n",
       "    </tr>\n",
       "  </tbody>\n",
       "</table>\n",
       "<p>70072 rows × 4 columns</p>\n",
       "</div>"
      ],
      "text/plain": [
       "                     Unnamed: 0  comptage      timestamp  station_id\n",
       "date                                                                \n",
       "2019-01-01 00:00:00      105204         5  1546300800000           1\n",
       "2019-01-01 00:15:00      105205         0  1546301700000           1\n",
       "2019-01-01 00:30:00      105206         6  1546302600000           1\n",
       "2019-01-01 00:45:00      105207         6  1546303500000           1\n",
       "2019-01-01 01:00:00      105208         5  1546304400000           1\n",
       "...                         ...       ...            ...         ...\n",
       "2019-12-31 22:45:00      140235         3  1577832300000           2\n",
       "2019-12-31 23:00:00      140236         2  1577833200000           2\n",
       "2019-12-31 23:15:00      140237         2  1577834100000           2\n",
       "2019-12-31 23:30:00      140238         1  1577835000000           2\n",
       "2019-12-31 23:45:00      140239         7  1577835900000           2\n",
       "\n",
       "[70072 rows x 4 columns]"
      ]
     },
     "execution_count": 121,
     "metadata": {},
     "output_type": "execute_result"
    }
   ],
   "source": [
    "dfc.loc['2019']"
   ]
  },
  {
   "cell_type": "code",
   "execution_count": 122,
   "id": "ae6ffadd",
   "metadata": {},
   "outputs": [
    {
     "data": {
      "text/plain": [
       "650"
      ]
     },
     "execution_count": 122,
     "metadata": {},
     "output_type": "execute_result"
    }
   ],
   "source": [
    "dfc.loc['2019-01-01'].query('station_id == 1')['comptage'].sum()"
   ]
  },
  {
   "cell_type": "code",
   "execution_count": 123,
   "id": "f4e701a9",
   "metadata": {},
   "outputs": [
    {
     "data": {
      "text/plain": [
       "373"
      ]
     },
     "execution_count": 123,
     "metadata": {},
     "output_type": "execute_result"
    }
   ],
   "source": [
    "dfc.loc['2019-01-01'].query('station_id == 2')['comptage'].sum()"
   ]
  },
  {
   "cell_type": "code",
   "execution_count": 124,
   "id": "37a38d8d",
   "metadata": {},
   "outputs": [
    {
     "data": {
      "text/plain": [
       "1023"
      ]
     },
     "execution_count": 124,
     "metadata": {},
     "output_type": "execute_result"
    }
   ],
   "source": [
    "days_summarized = dfc['comptage'].resample('D').sum()\n",
    "days_summarized['2019-01-01']"
   ]
  },
  {
   "cell_type": "code",
   "execution_count": 125,
   "id": "d243382a",
   "metadata": {},
   "outputs": [],
   "source": [
    "def summarize(df, scale):\n",
    "    return df['comptage'].resample(scale).sum()"
   ]
  },
  {
   "cell_type": "code",
   "execution_count": 127,
   "id": "ea271790",
   "metadata": {},
   "outputs": [
    {
     "data": {
      "image/png": "[encoded data removed]",
      "text/plain": [
       "<Figure size 432x288 with 1 Axes>"
      ]
     },
     "metadata": {
      "needs_background": "light"
     },
     "output_type": "display_data"
    }
   ],
   "source": [
    "plt.plot(summarize(df1, 'M'))\n",
    "plt.plot(summarize(df2, 'M'))\n",
    "plt.show()"
   ]
  },
  {
   "cell_type": "code",
   "execution_count": 128,
   "id": "1b8e1f78",
   "metadata": {},
   "outputs": [
    {
     "data": {
      "image/png": "[encoded data removed]",
      "text/plain": [
       "<Figure size 432x288 with 1 Axes>"
      ]
     },
     "metadata": {
      "needs_background": "light"
     },
     "output_type": "display_data"
    }
   ],
   "source": [
    "plt.plot(summarize(dfc, 'M'))\n",
    "plt.show()"
   ]
  },
  {
   "cell_type": "code",
   "execution_count": null,
   "id": "2185e416",
   "metadata": {},
   "outputs": [],
   "source": []
  }
 ],
 "metadata": {
  "kernelspec": {
   "display_name": "conda_python3",
   "language": "python",
   "name": "conda_python3"
  },
  "language_info": {
   "codemirror_mode": {
    "name": "ipython",
    "version": 3
   },
   "file_extension": ".py",
   "mimetype": "text/x-python",
   "name": "python",
   "nbconvert_exporter": "python",
   "pygments_lexer": "ipython3",
   "version": "3.6.13"
  }
 },
 "nbformat": 4,
 "nbformat_minor": 5
}
